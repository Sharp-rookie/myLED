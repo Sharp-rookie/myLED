{
 "cells": [
  {
   "cell_type": "markdown",
   "metadata": {},
   "source": [
    "# Basic experiment"
   ]
  },
  {
   "cell_type": "markdown",
   "metadata": {},
   "source": [
    "# Make toy data"
   ]
  },
  {
   "attachments": {},
   "cell_type": "markdown",
   "metadata": {},
   "source": [
    " Type 1. Independent Gaussian\n",
    "\n",
    "$$\n",
    "(x_1, x_2) \\sim \\mathcal{N}(0,I)\n",
    "$$\n",
    "\n",
    " Type 2. Correlated Gaussian\n",
    "\n",
    "$$\n",
    "(y_1, y_2) \\sim \\mathcal{N}(0,\\begin{bmatrix}1&\\rho\\\\ \\rho&1\\end{bmatrix})\n",
    "$$"
   ]
  },
  {
   "cell_type": "code",
   "execution_count": 1,
   "metadata": {},
   "outputs": [],
   "source": [
    "import numpy as np"
   ]
  },
  {
   "cell_type": "code",
   "execution_count": null,
   "metadata": {},
   "outputs": [],
   "source": [
    "x = np.random.multivariate_normal( mean=[0,0],\n",
    "                                  cov=[[1,0],[0,1]],\n",
    "                                 size = 300)"
   ]
  },
  {
   "cell_type": "code",
   "execution_count": null,
   "metadata": {},
   "outputs": [],
   "source": [
    "rho = 0.8\n",
    "y = np.random.multivariate_normal( mean=[0,0],\n",
    "                                  cov=[[1,rho],[rho,1]],\n",
    "                                 size = 300)"
   ]
  },
  {
   "cell_type": "code",
   "execution_count": 2,
   "metadata": {},
   "outputs": [],
   "source": [
    "import matplotlib.pyplot as plt\n",
    "import seaborn as sns\n",
    "sns.set()"
   ]
  },
  {
   "cell_type": "code",
   "execution_count": null,
   "metadata": {},
   "outputs": [],
   "source": [
    "# plt indep Gaussian\n",
    "sns.scatterplot(x=x[:,0],y=x[:,1])"
   ]
  },
  {
   "cell_type": "code",
   "execution_count": null,
   "metadata": {},
   "outputs": [],
   "source": [
    "# plt cor Gaussian\n",
    "sns.scatterplot(x=y[:,0],y=y[:,1])"
   ]
  },
  {
   "cell_type": "markdown",
   "metadata": {},
   "source": [
    "# Define MINE"
   ]
  },
  {
   "cell_type": "code",
   "execution_count": 3,
   "metadata": {},
   "outputs": [],
   "source": [
    "import torch\n",
    "import torch.nn as nn\n",
    "import torch.nn.functional as F\n",
    "import torch.optim as optim\n",
    "import torch.autograd as autograd"
   ]
  },
  {
   "cell_type": "code",
   "execution_count": 4,
   "metadata": {},
   "outputs": [],
   "source": [
    "class Mine(nn.Module):\n",
    "    def __init__(self, input_size=2, hidden_size=100):\n",
    "        super().__init__()\n",
    "        self.fc1 = nn.Linear(input_size, hidden_size)\n",
    "        self.fc2 = nn.Linear(hidden_size, hidden_size)\n",
    "        self.fc3 = nn.Linear(hidden_size, 1)\n",
    "        nn.init.normal_(self.fc1.weight,std=0.02)\n",
    "        nn.init.constant_(self.fc1.bias, 0)\n",
    "        nn.init.normal_(self.fc2.weight,std=0.02)\n",
    "        nn.init.constant_(self.fc2.bias, 0)\n",
    "        nn.init.normal_(self.fc3.weight,std=0.02)\n",
    "        nn.init.constant_(self.fc3.bias, 0)\n",
    "        \n",
    "    def forward(self, input):\n",
    "        output = F.elu(self.fc1(input))\n",
    "        output = F.elu(self.fc2(output))\n",
    "        output = self.fc3(output)\n",
    "        return output"
   ]
  },
  {
   "cell_type": "code",
   "execution_count": 5,
   "metadata": {},
   "outputs": [],
   "source": [
    "def mutual_information(joint, marginal, mine_net):\n",
    "    t = mine_net(joint)\n",
    "    et = torch.exp(mine_net(marginal))\n",
    "    mi_lb = torch.mean(t) - torch.log(torch.mean(et))\n",
    "    return mi_lb, t, et\n",
    "\n",
    "def learn_mine(batch, mine_net, mine_net_optim,  ma_et, ma_rate=0.01):\n",
    "    # batch is a tuple of (joint, marginal)\n",
    "    joint, marginal = batch\n",
    "    joint = torch.autograd.Variable(torch.FloatTensor(joint)).cuda()\n",
    "    marginal = torch.autograd.Variable(torch.FloatTensor(marginal)).cuda()\n",
    "    mi_lb, t, et = mutual_information(joint, marginal, mine_net)\n",
    "    ma_et = (1-ma_rate)*ma_et + ma_rate*torch.mean(et)\n",
    "    \n",
    "    # unbiasing use moving average\n",
    "    loss = -(torch.mean(t) - torch.mean(et))/(ma_et.mean().detach())\n",
    "    # use biased estimator\n",
    "    # loss = - mi_lb\n",
    "    \n",
    "    mine_net_optim.zero_grad()\n",
    "    autograd.backward(loss)\n",
    "    mine_net_optim.step()\n",
    "    return mi_lb, ma_et"
   ]
  },
  {
   "cell_type": "code",
   "execution_count": 6,
   "metadata": {},
   "outputs": [],
   "source": [
    "def sample_batch(data, batch_size=100, sample_mode='joint'):\n",
    "    if sample_mode == 'joint':\n",
    "        index = np.random.choice(range(data.shape[0]), size=batch_size, replace=False)\n",
    "        batch = data[index]\n",
    "    else:\n",
    "        joint_index = np.random.choice(range(data.shape[0]), size=batch_size, replace=False)\n",
    "        marginal_index = np.random.choice(range(data.shape[0]), size=batch_size, replace=False)\n",
    "        batch = np.concatenate([data[joint_index][:,0].reshape(-1,1),\n",
    "                                         data[marginal_index][:,1].reshape(-1,1)], axis=1)\n",
    "    return batch"
   ]
  },
  {
   "cell_type": "code",
   "execution_count": null,
   "metadata": {},
   "outputs": [],
   "source": [
    "joint_data = sample_batch(y, batch_size=100, sample_mode='joint')\n",
    "sns.scatterplot(x=joint_data[:,0], y=joint_data[:,1], color='red')\n",
    "marginal_data = sample_batch(y, batch_size=100, sample_mode='marginal')\n",
    "sns.scatterplot(x=marginal_data[:,0], y=marginal_data[:,1])"
   ]
  },
  {
   "cell_type": "code",
   "execution_count": 7,
   "metadata": {},
   "outputs": [],
   "source": [
    "def train(data, mine_net,mine_net_optim, batch_size=100, iter_num=int(5e+3), log_freq=int(1e+3)):\n",
    "    # data is x or y\n",
    "    result = list()\n",
    "    ma_et = 1.\n",
    "    for i in range(iter_num):\n",
    "        batch = sample_batch(data, batch_size), sample_batch(data, batch_size, sample_mode='marginal')\n",
    "        mi_lb, ma_et = learn_mine(batch, mine_net, mine_net_optim, ma_et)\n",
    "        result.append(mi_lb.detach().cpu().numpy())\n",
    "        if (i+1)%(log_freq)==0:\n",
    "            print(result[-1])\n",
    "    return result"
   ]
  },
  {
   "cell_type": "code",
   "execution_count": 8,
   "metadata": {},
   "outputs": [],
   "source": [
    "def ma(a, window_size=100):\n",
    "    return [np.mean(a[i:i+window_size]) for i in range(0, len(a)-window_size)]"
   ]
  },
  {
   "cell_type": "code",
   "execution_count": null,
   "metadata": {},
   "outputs": [],
   "source": [
    "mine_net_indep = Mine().cuda()\n",
    "mine_net_optim_indep = optim.Adam(mine_net_indep.parameters(), lr=1e-3)\n",
    "result_indep = train(x, mine_net_indep, mine_net_optim_indep)"
   ]
  },
  {
   "cell_type": "code",
   "execution_count": null,
   "metadata": {},
   "outputs": [],
   "source": [
    "result_indep_ma = ma(result_indep)\n",
    "print(result_indep_ma[-1])\n",
    "plt.plot(range(len(result_indep_ma)), result_indep_ma)"
   ]
  },
  {
   "cell_type": "code",
   "execution_count": null,
   "metadata": {},
   "outputs": [],
   "source": [
    "mine_net_cor = Mine().cuda()\n",
    "mine_net_optim_cor = optim.Adam(mine_net_cor.parameters(), lr=1e-3)\n",
    "result_cor = train(y, mine_net_cor, mine_net_optim_cor)"
   ]
  },
  {
   "cell_type": "code",
   "execution_count": null,
   "metadata": {
    "scrolled": false
   },
   "outputs": [],
   "source": [
    "result_cor_ma = ma(result_cor)\n",
    "print(result_cor_ma[-1])\n",
    "plt.plot(range(len(result_cor_ma)), result_cor_ma)"
   ]
  },
  {
   "cell_type": "markdown",
   "metadata": {},
   "source": [
    "# Test with various correlations"
   ]
  },
  {
   "cell_type": "code",
   "execution_count": null,
   "metadata": {},
   "outputs": [],
   "source": [
    "correlations = np.linspace(-0.9,0.9,19)\n",
    "print(correlations)"
   ]
  },
  {
   "cell_type": "code",
   "execution_count": null,
   "metadata": {
    "scrolled": false
   },
   "outputs": [],
   "source": [
    "final_result = []\n",
    "for rho in correlations:\n",
    "    rho_data = np.random.multivariate_normal( mean=[0,0], cov=[[1,rho],[rho,1]], size = 300)\n",
    "    mine_net = Mine().cuda()\n",
    "    mine_net_optim = optim.Adam(mine_net.parameters(), lr=1e-3)\n",
    "    result = train(rho_data, mine_net, mine_net_optim)\n",
    "    result_ma = ma(result)\n",
    "    final_result.append(result_ma[-1])\n",
    "    print(str(rho) + ' : ' + str(final_result[-1]))\n",
    "    plt.plot(range(len(result_ma)), result_ma)"
   ]
  },
  {
   "cell_type": "code",
   "execution_count": null,
   "metadata": {},
   "outputs": [],
   "source": [
    "plt.plot(correlations, final_result)"
   ]
  },
  {
   "cell_type": "markdown",
   "metadata": {},
   "source": [
    "# Equitability experiment\n",
    "\n",
    "Check more information at [original equitability paper](http://www.pnas.org/content/pnas/111/9/3354.full.pdf)."
   ]
  },
  {
   "cell_type": "markdown",
   "metadata": {},
   "source": [
    "# Make toy data"
   ]
  },
  {
   "cell_type": "code",
   "execution_count": 9,
   "metadata": {},
   "outputs": [],
   "source": [
    "x = np.random.uniform(low=-1.,high=1.,size=3000)\n",
    "f1 = x\n",
    "f2 = 2*x\n",
    "f3 = np.sin(np.pi*x)\n",
    "f4 = x**3\n",
    "f5 = np.exp(x)\n",
    "eps = np.random.normal(size=3000)"
   ]
  },
  {
   "cell_type": "code",
   "execution_count": null,
   "metadata": {},
   "outputs": [],
   "source": [
    "sns.scatterplot(x, f1, color='red')"
   ]
  },
  {
   "cell_type": "code",
   "execution_count": null,
   "metadata": {},
   "outputs": [],
   "source": [
    "sns.scatterplot(x, f2, color='blue')"
   ]
  },
  {
   "cell_type": "code",
   "execution_count": null,
   "metadata": {},
   "outputs": [],
   "source": [
    "sns.scatterplot(x, f3, color='green')"
   ]
  },
  {
   "cell_type": "code",
   "execution_count": null,
   "metadata": {},
   "outputs": [],
   "source": [
    "sns.scatterplot(x, f4,color='purple')"
   ]
  },
  {
   "cell_type": "code",
   "execution_count": null,
   "metadata": {},
   "outputs": [],
   "source": [
    "sns.scatterplot(x, f5, color='yellow')"
   ]
  },
  {
   "cell_type": "code",
   "execution_count": 10,
   "metadata": {},
   "outputs": [
    {
     "name": "stdout",
     "output_type": "stream",
     "text": [
      "[0.  0.1 0.2 0.3 0.4 0.5 0.6 0.7 0.8 0.9]\n"
     ]
    }
   ],
   "source": [
    "sigmas = np.linspace(0.0,0.9,10)\n",
    "fs = [f1, f2, f3, f4, f5]\n",
    "print(sigmas)"
   ]
  },
  {
   "cell_type": "code",
   "execution_count": 11,
   "metadata": {
    "scrolled": false
   },
   "outputs": [
    {
     "name": "stdout",
     "output_type": "stream",
     "text": [
      "3.0363154\n",
      "3.3839862\n",
      "5.149334\n",
      "5.3287854\n",
      "4.0147395\n",
      "0.0,0 : 5.291139\n",
      "3.5445228\n",
      "4.5538654\n",
      "4.011033\n",
      "3.231633\n",
      "4.7704268\n",
      "0.0,1 : 6.2936225\n",
      "0.616921\n",
      "1.2972538\n",
      "1.2289668\n",
      "1.6995142\n",
      "1.1948456\n",
      "0.0,2 : 1.3565087\n",
      "1.0250157\n",
      "1.4436197\n",
      "0.8813411\n",
      "1.038464\n",
      "1.2029274\n",
      "0.0,3 : 1.2853531\n",
      "1.1445699\n",
      "2.037866\n",
      "2.87651\n",
      "2.180523\n",
      "3.3242702\n",
      "0.0,4 : 3.1188543\n",
      "1.4978955\n",
      "2.164853\n",
      "1.660373\n",
      "1.7273035\n",
      "2.2097654\n",
      "0.1,0 : 1.6564119\n",
      "1.6917387\n",
      "2.306057\n",
      "1.9149991\n",
      "2.2249746\n",
      "2.1372004\n",
      "0.1,1 : 2.424303\n",
      "0.70135653\n",
      "0.959475\n",
      "1.0716975\n",
      "1.0516242\n",
      "1.2927284\n",
      "0.1,2 : 1.1211165\n",
      "0.7749643\n",
      "0.7997097\n",
      "0.6392024\n",
      "0.77669096\n",
      "0.950734\n",
      "0.1,3 : 1.01199\n",
      "1.3237885\n",
      "1.7541288\n",
      "1.8285522\n",
      "2.2041268\n",
      "1.9267054\n",
      "0.1,4 : 1.6947986\n",
      "1.1329917\n",
      "1.1430949\n",
      "0.93972576\n",
      "0.95999014\n",
      "0.94904727\n",
      "0.2,0 : 1.0627402\n",
      "1.8591108\n",
      "1.6010873\n",
      "1.54544\n",
      "1.7203736\n",
      "1.6013261\n",
      "0.2,1 : 1.669944\n",
      "0.80149806\n",
      "0.8266838\n",
      "1.0344738\n",
      "0.7742781\n",
      "1.195403\n",
      "0.2,2 : 0.88936406\n",
      "0.39594558\n",
      "0.49725848\n",
      "0.7590377\n",
      "0.44830307\n",
      "0.8826014\n",
      "0.2,3 : 0.60874134\n",
      "0.9515597\n",
      "1.1663088\n",
      "0.95945156\n",
      "0.75200325\n",
      "1.1532695\n",
      "0.2,4 : 1.1074995\n",
      "0.6608815\n",
      "0.768639\n",
      "0.7613968\n",
      "0.7517792\n",
      "0.6991149\n",
      "0.30000000000000004,0 : 0.7607165\n",
      "1.1847097\n",
      "1.6314942\n",
      "1.5802907\n",
      "1.3072388\n",
      "1.5956064\n",
      "0.30000000000000004,1 : 1.27738\n",
      "0.47300214\n",
      "0.5420924\n",
      "0.4651983\n",
      "0.6155531\n",
      "0.8503347\n",
      "0.30000000000000004,2 : 0.69605285\n",
      "0.21078913\n",
      "0.43211687\n",
      "0.38286558\n",
      "0.46743685\n",
      "0.21887134\n",
      "0.30000000000000004,3 : 0.3734943\n",
      "0.9177475\n",
      "0.81452805\n",
      "0.73567975\n",
      "0.9516051\n",
      "0.9839751\n",
      "0.30000000000000004,4 : 0.78546137\n",
      "0.5611192\n",
      "0.67411757\n",
      "0.56193304\n",
      "0.37422982\n",
      "0.6482425\n",
      "0.4,0 : 0.5426681\n",
      "1.0376427\n",
      "0.7518612\n",
      "1.0243956\n",
      "1.2160046\n",
      "1.3826271\n",
      "0.4,1 : 1.04594\n",
      "0.38892013\n",
      "0.6371279\n",
      "0.31024316\n",
      "0.7892311\n"
     ]
    }
   ],
   "source": [
    "final_result = []\n",
    "for sigma in sigmas:\n",
    "    for fi, f in enumerate(fs):\n",
    "        data = np.concatenate([x.reshape(-1,1), (f + sigma * eps).reshape(-1,1)], axis=1)\n",
    "        mine_net = Mine().cuda()\n",
    "        mine_net_optim = optim.Adam(mine_net.parameters(), lr=1e-3)\n",
    "        result = train(data,mine_net,mine_net_optim,iter_num=int(5e+3))\n",
    "        result_ma = ma(result)\n",
    "        final_result.append(result_ma[-1])\n",
    "        print(str(sigma) + ',' + str(fi) +' : ' + str(final_result[-1]))\n",
    "        plt.plot(range(len(result_ma)),result_ma)"
   ]
  },
  {
   "cell_type": "code",
   "execution_count": null,
   "metadata": {
    "scrolled": true
   },
   "outputs": [],
   "source": [
    "re_final_result = np.transpose(np.array([final_result[4*i: 4*i+4]  for i in range(10)]))\n",
    "print(re_final_result)"
   ]
  },
  {
   "cell_type": "code",
   "execution_count": null,
   "metadata": {},
   "outputs": [],
   "source": [
    "sns.heatmap(re_final_result,cmap=\"YlGnBu\",linewidths=.5)"
   ]
  }
 ],
 "metadata": {
  "kernelspec": {
   "display_name": "base",
   "language": "python",
   "name": "python3"
  },
  "language_info": {
   "codemirror_mode": {
    "name": "ipython",
    "version": 3
   },
   "file_extension": ".py",
   "mimetype": "text/x-python",
   "name": "python",
   "nbconvert_exporter": "python",
   "pygments_lexer": "ipython3",
   "version": "3.8.8"
  },
  "vscode": {
   "interpreter": {
    "hash": "49cb93f377a7abe7414b7b0f21fb3017538004a126cf690fb524202736b7fb92"
   }
  }
 },
 "nbformat": 4,
 "nbformat_minor": 2
}
